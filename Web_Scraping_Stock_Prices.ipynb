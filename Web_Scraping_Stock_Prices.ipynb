{
  "nbformat": 4,
  "nbformat_minor": 0,
  "metadata": {
    "colab": {
      "name": "Web Scraping Stock Prices.ipynb",
      "provenance": [],
      "collapsed_sections": [],
      "toc_visible": true,
      "authorship_tag": "ABX9TyNFImHkJ7YPDfn7MmZFBxNC",
      "include_colab_link": true
    },
    "kernelspec": {
      "name": "python3",
      "display_name": "Python 3"
    }
  },
  "cells": [
    {
      "cell_type": "markdown",
      "metadata": {
        "id": "view-in-github",
        "colab_type": "text"
      },
      "source": [
        "<a href=\"https://colab.research.google.com/github/carlmaps/WebScraping/blob/master/Web_Scraping_Stock_Prices.ipynb\" target=\"_parent\"><img src=\"https://colab.research.google.com/assets/colab-badge.svg\" alt=\"Open In Colab\"/></a>"
      ]
    },
    {
      "cell_type": "markdown",
      "metadata": {
        "id": "AbAF_Dw88LvB",
        "colab_type": "text"
      },
      "source": [
        "Description: This project will scrape stock prices data from web using Beautifulsoup </br>\n",
        "Date: 05/09/2020"
      ]
    },
    {
      "cell_type": "markdown",
      "metadata": {
        "id": "y0NF8quHmZh9",
        "colab_type": "text"
      },
      "source": [
        "##### Import the libraries"
      ]
    },
    {
      "cell_type": "code",
      "metadata": {
        "id": "zNQvaw948afl",
        "colab_type": "code",
        "colab": {}
      },
      "source": [
        "from bs4 import BeautifulSoup\n",
        "import requests\n",
        "import datetime\n",
        "import csv"
      ],
      "execution_count": 0,
      "outputs": []
    },
    {
      "cell_type": "markdown",
      "metadata": {
        "id": "maAlrzv-m7vH",
        "colab_type": "text"
      },
      "source": [
        "##### Trying to web scrape the stock price using Beautifulsoup before create a generic function"
      ]
    },
    {
      "cell_type": "code",
      "metadata": {
        "id": "mcEA-HqD8sti",
        "colab_type": "code",
        "colab": {}
      },
      "source": [
        "URL = \"https://finance.yahoo.com/quote/ACN?p=ACN&.tsrc=fin-srch\"\n",
        "source = requests.get(URL).text\n",
        "soup = BeautifulSoup(source, 'lxml')"
      ],
      "execution_count": 0,
      "outputs": []
    },
    {
      "cell_type": "code",
      "metadata": {
        "id": "zgl0wNkjGRRb",
        "colab_type": "code",
        "colab": {}
      },
      "source": [
        "price = soup.find('div',class_='My(6px) Pos(r) smartphone_Mt(6px)').span.text\n",
        "print(price)"
      ],
      "execution_count": 0,
      "outputs": []
    },
    {
      "cell_type": "markdown",
      "metadata": {
        "id": "gb-vQ87DMNXg",
        "colab_type": "text"
      },
      "source": [
        "#### Create a function/method that will accept the stock ticker name and will return the current stock price for the company"
      ]
    },
    {
      "cell_type": "code",
      "metadata": {
        "id": "phvw16ILIYNE",
        "colab_type": "code",
        "colab": {}
      },
      "source": [
        "def getStockPrice(stockTickerName):\n",
        "  URL = 'https://finance.yahoo.com/quote/'\n",
        "  URL = URL + stockTickerName + '?p=' + stockTickerName + '&.tsrc=fin-srch'\n",
        "\n",
        "  source = requests.get(URL).text\n",
        "  soup = BeautifulSoup(source, 'lxml')\n",
        "  price = soup.find('div',class_='My(6px) Pos(r) smartphone_Mt(6px)').span.text\n",
        "\n",
        "  return price"
      ],
      "execution_count": 0,
      "outputs": []
    },
    {
      "cell_type": "markdown",
      "metadata": {
        "id": "T85DyWGQnisR",
        "colab_type": "text"
      },
      "source": [
        "##### Testing the created function with Accenture and BestBuy stock ticker name to see if we are able to get the price"
      ]
    },
    {
      "cell_type": "code",
      "metadata": {
        "id": "ofGKy8jJnbfX",
        "colab_type": "code",
        "colab": {}
      },
      "source": [
        "print(getStockPrice('ACN'))\n",
        "print(getStockPrice('BBY'))"
      ],
      "execution_count": 0,
      "outputs": []
    },
    {
      "cell_type": "markdown",
      "metadata": {
        "id": "F_KIQ5i7qIRn",
        "colab_type": "text"
      },
      "source": [
        "##### This function will get the stock price af a pre determined companies and will save the data into a csv file."
      ]
    },
    {
      "cell_type": "code",
      "metadata": {
        "id": "te-JigwWMp_t",
        "colab_type": "code",
        "colab": {}
      },
      "source": [
        "def saveStockPrices(fileName, count):\n",
        "\n",
        "    stocks = ['ACN', 'BBY', 'MSFT', 'AAPL']\n",
        "    headers = ['TimeStamp'] + stocks\n",
        "    \n",
        "    stock_price = open(fileName + '.csv', 'w')\n",
        "    csv_writer = csv.writer(stock_price)\n",
        "    csv_writer.writerow(headers)\n",
        "\n",
        "    for i in range(1,count):\n",
        "        price = []\n",
        "        timestmp = datetime.datetime.now()\n",
        "        timestmp = timestmp.strftime('%y-%m-%d %H:%M:%S')\n",
        "        for ticker in stocks:\n",
        "          price.append(getStockPrice(ticker))\n",
        "        content = [timestmp]\n",
        "        content.extend(price)\n",
        "        csv_writer.writerow(content)\n",
        "        #print(content)\n",
        "\n",
        "    stock_price.close()\n"
      ],
      "execution_count": 0,
      "outputs": []
    },
    {
      "cell_type": "markdown",
      "metadata": {
        "id": "rMYnXaKsrQJn",
        "colab_type": "text"
      },
      "source": [
        "##### Testing the saveStockPrices function. </br>\n",
        "Expected to generate a file with filename stckPrices with 20 rows inside it."
      ]
    },
    {
      "cell_type": "code",
      "metadata": {
        "id": "RTUuOX9_Vhme",
        "colab_type": "code",
        "colab": {}
      },
      "source": [
        "saveStockPrices('stckPrice', 200)"
      ],
      "execution_count": 0,
      "outputs": []
    },
    {
      "cell_type": "markdown",
      "metadata": {
        "id": "NhVyQQWN6TVt",
        "colab_type": "text"
      },
      "source": [
        "##### Plotting the prices in Matplotlib"
      ]
    },
    {
      "cell_type": "code",
      "metadata": {
        "id": "D8IVJuk3dxL_",
        "colab_type": "code",
        "colab": {}
      },
      "source": [
        "import numpy as np\n",
        "import pandas as pd\n",
        "import matplotlib.pyplot as plt\n",
        "import matplotlib.animation as animation\n",
        "from matplotlib import style\n",
        "\n",
        "style.use('dark_background')\n",
        "\n",
        "%matplotlib inline"
      ],
      "execution_count": 0,
      "outputs": []
    },
    {
      "cell_type": "code",
      "metadata": {
        "id": "mdtNeW5UECHD",
        "colab_type": "code",
        "colab": {}
      },
      "source": [
        "fig = plt.figure(figsize=(8,6))\n",
        "\n",
        "ax1 = fig.add_subplot(2,2,1)\n",
        "ax2 = fig.add_subplot(2,2,2)\n",
        "ax3 = fig.add_subplot(2,2,3)\n",
        "ax4 = fig.add_subplot(2,2,4)\n",
        "\n",
        "def animate(i):\n",
        "    df = pd.read_csv('stckPrice.csv')\n",
        "\n",
        "    #ACN\n",
        "    y = df.iloc[1:, 1].values\n",
        "    x = list(range(1, len(y)+1))\n",
        "    ax1.clear()\n",
        "    ax1.plot(x, y)\n",
        "    ax1.set_title('Accenture')\n",
        "\n",
        "    #BBY\n",
        "    y = df.iloc[1:, 2].values\n",
        "    ax2.clear()\n",
        "    ax2.plot(x, y)\n",
        "    ax2.set_title('BestBuy')\n",
        "\n",
        "    #MSFT\n",
        "    y = df.iloc[1:, 3].values\n",
        "    ax3.clear()\n",
        "    ax3.plot(x, y)\n",
        "    ax3.set_title('Microsoft')\n",
        "    \n",
        "    #AAPL\n",
        "    y = df.iloc[1:, 4].values\n",
        "    ax4.clear()\n",
        "    ax4.plot(x, y)\n",
        "    ax4.set_title('Apple')\n",
        "\n",
        "ani = animation.FuncAnimation(fig, animate, interval = 1000)\n",
        "plt.tight_layout()\n"
      ],
      "execution_count": 0,
      "outputs": []
    },
    {
      "cell_type": "code",
      "metadata": {
        "id": "puB-hD59OJdl",
        "colab_type": "code",
        "colab": {}
      },
      "source": [
        ""
      ],
      "execution_count": 0,
      "outputs": []
    }
  ]
}