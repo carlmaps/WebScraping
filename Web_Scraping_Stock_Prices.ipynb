{
  "nbformat": 4,
  "nbformat_minor": 0,
  "metadata": {
    "colab": {
      "name": "Web Scraping Stock Prices.ipynb",
      "provenance": [],
      "private_outputs": true,
      "collapsed_sections": [],
      "toc_visible": true
    },
    "kernelspec": {
      "name": "python3",
      "display_name": "Python 3"
    }
  },
  "cells": [
    {
      "cell_type": "markdown",
      "metadata": {
        "id": "AbAF_Dw88LvB",
        "colab_type": "text"
      },
      "source": [
        "Description: This project will scrape stock prices data from web using Beautifulsoup </br>\n",
        "Date: 05/09/2020"
      ]
    },
    {
      "cell_type": "markdown",
      "metadata": {
        "id": "y0NF8quHmZh9",
        "colab_type": "text"
      },
      "source": [
        "##### Import the libraries"
      ]
    },
    {
      "cell_type": "code",
      "metadata": {
        "id": "zNQvaw948afl",
        "colab_type": "code",
        "colab": {}
      },
      "source": [
        "from bs4 import BeautifulSoup\n",
        "import requests\n",
        "import datetime\n",
        "import csv"
      ],
      "execution_count": 0,
      "outputs": []
    },
    {
      "cell_type": "markdown",
      "metadata": {
        "id": "maAlrzv-m7vH",
        "colab_type": "text"
      },
      "source": [
        "##### Trying to web scrape the stock price using Beautifulsoup before create a generic function"
      ]
    },
    {
      "cell_type": "code",
      "metadata": {
        "id": "mcEA-HqD8sti",
        "colab_type": "code",
        "colab": {}
      },
      "source": [
        "URL = \"https://finance.yahoo.com/quote/ACN?p=ACN&.tsrc=fin-srch\"\n",
        "source = requests.get(URL).text\n",
        "soup = BeautifulSoup(source, 'lxml')"
      ],
      "execution_count": 0,
      "outputs": []
    },
    {
      "cell_type": "code",
      "metadata": {
        "id": "zgl0wNkjGRRb",
        "colab_type": "code",
        "colab": {}
      },
      "source": [
        "price = soup.find('div',class_='My(6px) Pos(r) smartphone_Mt(6px)').span.text\n",
        "print(price)"
      ],
      "execution_count": 0,
      "outputs": []
    },
    {
      "cell_type": "markdown",
      "metadata": {
        "id": "gb-vQ87DMNXg",
        "colab_type": "text"
      },
      "source": [
        "#### Create a function/method that will accept the stock ticker name and will return the current stock price for the company"
      ]
    },
    {
      "cell_type": "code",
      "metadata": {
        "id": "phvw16ILIYNE",
        "colab_type": "code",
        "colab": {}
      },
      "source": [
        "def getStockPrice(stockTickerName):\n",
        "  URL = 'https://finance.yahoo.com/quote/'\n",
        "  URL = URL + stockTickerName + '?p=' + stockTickerName + '&.tsrc=fin-srch'\n",
        "\n",
        "  source = requests.get(URL).text\n",
        "  soup = BeautifulSoup(source, 'lxml')\n",
        "  price = soup.find('div',class_='My(6px) Pos(r) smartphone_Mt(6px)').span.text\n",
        "\n",
        "  return price"
      ],
      "execution_count": 0,
      "outputs": []
    },
    {
      "cell_type": "markdown",
      "metadata": {
        "id": "T85DyWGQnisR",
        "colab_type": "text"
      },
      "source": [
        "##### Testing the created function with Accenture and BestBuy stock ticker name to see if we are able to get the price"
      ]
    },
    {
      "cell_type": "code",
      "metadata": {
        "id": "ofGKy8jJnbfX",
        "colab_type": "code",
        "colab": {}
      },
      "source": [
        "print(getStockPrice('ACN'))\n",
        "print(getStockPrice('BBY'))"
      ],
      "execution_count": 0,
      "outputs": []
    },
    {
      "cell_type": "markdown",
      "metadata": {
        "id": "F_KIQ5i7qIRn",
        "colab_type": "text"
      },
      "source": [
        "##### This function will get the stock price af a pre determined companies and will save the data into a csv file."
      ]
    },
    {
      "cell_type": "code",
      "metadata": {
        "id": "te-JigwWMp_t",
        "colab_type": "code",
        "colab": {}
      },
      "source": [
        "def saveStockPrices(fileName, count):\n",
        "\n",
        "    stocks = ['ACN', 'BBY', 'MSFT', 'AAPL']\n",
        "    headers = ['TimeStamp'] + stocks\n",
        "    \n",
        "    stock_price = open(fileName + '.csv', 'w')\n",
        "    csv_writer = csv.writer(stock_price)\n",
        "    csv_writer.writerow(headers)\n",
        "\n",
        "    for i in range(1,count):\n",
        "        price = []\n",
        "        timestmp = datetime.datetime.now()\n",
        "        timestmp = timestmp.strftime('%y-%m-%d %H:%M:%S')\n",
        "        for ticker in stocks:\n",
        "          price.append(getStockPrice(ticker))\n",
        "        content = [timestmp]\n",
        "        content.extend(price)\n",
        "        csv_writer.writerow(content)\n",
        "        #print(content)\n",
        "\n",
        "    stock_price.close()\n"
      ],
      "execution_count": 0,
      "outputs": []
    },
    {
      "cell_type": "markdown",
      "metadata": {
        "id": "rMYnXaKsrQJn",
        "colab_type": "text"
      },
      "source": [
        "##### Testing the saveStockPrices function. </br>\n",
        "Expected to generate a file with filename stckPrices with 20 rows inside it."
      ]
    },
    {
      "cell_type": "code",
      "metadata": {
        "id": "RTUuOX9_Vhme",
        "colab_type": "code",
        "colab": {}
      },
      "source": [
        "saveStockPrices('stckPrice', 20)"
      ],
      "execution_count": 0,
      "outputs": []
    },
    {
      "cell_type": "code",
      "metadata": {
        "id": "D8IVJuk3dxL_",
        "colab_type": "code",
        "colab": {}
      },
      "source": [
        ""
      ],
      "execution_count": 0,
      "outputs": []
    }
  ]
}